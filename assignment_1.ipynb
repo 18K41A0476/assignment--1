{
  "nbformat": 4,
  "nbformat_minor": 0,
  "metadata": {
    "colab": {
      "name": "assignment 1",
      "provenance": [],
      "collapsed_sections": [],
      "authorship_tag": "ABX9TyPQZpbbWxRX3TQ4PoQhYbzK",
      "include_colab_link": true
    },
    "kernelspec": {
      "name": "python3",
      "display_name": "Python 3"
    }
  },
  "cells": [
    {
      "cell_type": "markdown",
      "metadata": {
        "id": "view-in-github",
        "colab_type": "text"
      },
      "source": [
        "<a href=\"https://colab.research.google.com/github/18K41A0476/assignment--1/blob/master/assignment_1.ipynb\" target=\"_parent\"><img src=\"https://colab.research.google.com/assets/colab-badge.svg\" alt=\"Open In Colab\"/></a>"
      ]
    },
    {
      "cell_type": "code",
      "metadata": {
        "id": "3M_sNQokZNx8",
        "colab_type": "code",
        "colab": {}
      },
      "source": [
        "# ASSIGNMENT-1"
      ],
      "execution_count": null,
      "outputs": []
    },
    {
      "cell_type": "code",
      "metadata": {
        "id": "EtHxbo79ZPYU",
        "colab_type": "code",
        "colab": {
          "base_uri": "https://localhost:8080/",
          "height": 50
        },
        "outputId": "484877d4-ae4d-48e2-af8c-e27532159310"
      },
      "source": [
        "#problem 1\n",
        "\n",
        "yr=int(input(\"enter year\"))\n",
        "if yr%12==0:\n",
        "  print(\"monkey\")\n",
        "elif yr%12==1:\n",
        "    print(\"rooster\")\n",
        "elif yr%12==2:\n",
        "    print(\"dog\")\n",
        "elif yr%12==3:\n",
        "    print(\"pig\")\n",
        "elif yr%12==4:\n",
        "    print(\"rat\")\n",
        "elif yr%12==5:\n",
        "    print(\"ox\")\n",
        "elif yr%12==6:\n",
        "    print(\"tiger\")\n",
        "elif yr%12==7:\n",
        "    print(\"rabbit\")\n",
        "elif yr%12==8:\n",
        "    print(\"dragan\")\n",
        "elif yr%12==9:\n",
        "    print(\"snake\")\n",
        "elif yr%12==10:\n",
        "    print(\"horse\")\n",
        "else:\n",
        "    print(\"sheep\")"
      ],
      "execution_count": null,
      "outputs": [
        {
          "output_type": "stream",
          "text": [
            "enter year2000\n",
            "dragan\n"
          ],
          "name": "stdout"
        }
      ]
    },
    {
      "cell_type": "code",
      "metadata": {
        "id": "DsDTa0d1ZQYc",
        "colab_type": "code",
        "colab": {
          "base_uri": "https://localhost:8080/",
          "height": 67
        },
        "outputId": "2a0c51f4-0d92-43c1-dfdd-e99e955a8edb"
      },
      "source": [
        "#problem 2\n",
        "\n",
        "dist=int(input(\"enter distance\"))\n",
        "wt=int(input(\"enter wt\"))\n",
        "if dist>=500:\n",
        "  if wt>=100:\n",
        "    cost=5*dist\n",
        "  elif wt>=10 and wt<100:\n",
        "      cost=6*dist\n",
        "  else:\n",
        "    cost=7*dist\n",
        "else:\n",
        "    if wt>=100:\n",
        "      cost=8*dist\n",
        "    else:\n",
        "        cost=5*dist\n",
        "print(\"charge of goods\",cost)"
      ],
      "execution_count": null,
      "outputs": [
        {
          "output_type": "stream",
          "text": [
            "enter distance520\n",
            "enter wt50\n",
            "charge of goods 3120\n"
          ],
          "name": "stdout"
        }
      ]
    },
    {
      "cell_type": "markdown",
      "metadata": {
        "id": "FG13h4DZZQpl",
        "colab_type": "text"
      },
      "source": [
        "**3**.\t**The Entertainment Paradise**\n",
        "\n",
        " **A theater in Delhi wants to develop a computerized Booking System. The theater offers different types of seats. The Ticket rates are- Stalls- Rs. 625/-, Circle- Rs.750/-, Upper Class- Rs.850/- and Box- Rs.1000/-. A discount is given 10% of total amount if tickets are purchased on Cash. In case of credit card holders 5% discount is given.** \n",
        "**Input: \tType of Seat: Circle**    \n",
        "**Payment mode: cash**\n",
        "**Output: Cost of ticket: 675**\n"
      ]
    },
    {
      "cell_type": "code",
      "metadata": {
        "id": "JWbQycLLZQ5k",
        "colab_type": "code",
        "colab": {
          "base_uri": "https://localhost:8080/",
          "height": 67
        },
        "outputId": "382defcd-82d8-475a-d290-7d485bc14b68"
      },
      "source": [
        "#problem 3\n",
        "seat=input(\"enter type of seat\")\n",
        "mode=input(\"enter payment mode\")\n",
        "if seat=='circle':\n",
        "  if mode=='cash':\n",
        "    cost=750-((10/100)*750)\n",
        "    print(cost)\n",
        "  else:\n",
        "    cost=750-((5/100)*750)\n",
        "    print(cost)\n",
        "elif seat=='stall':\n",
        "  if mode=='cash':\n",
        "    cost=625-((10/100)*625)\n",
        "    print(cost)\n",
        "  else:\n",
        "    cost=625-((5/100)*625)\n",
        "    print(cost)\n",
        "    if seat=='upperclass':\n",
        "      if mode=='cash':\n",
        "        cost=850-((10/100)*850)\n",
        "        print(cost)\n",
        "      else:\n",
        "        cost=850-((5/100)*850)\n",
        "        print(cost)\n",
        "else:\n",
        "  if mode=='cash':\n",
        "    cost=1000-((10/100)*1000)\n",
        "    print(cost)\n",
        "  else:\n",
        "    cost=1000-((5/100)*1000)\n",
        "    print(cost)"
      ],
      "execution_count": null,
      "outputs": [
        {
          "output_type": "stream",
          "text": [
            "enter type of seatcircle\n",
            "enter payment modecash\n",
            "675.0\n"
          ],
          "name": "stdout"
        }
      ]
    },
    {
      "cell_type": "markdown",
      "metadata": {
        "id": "iGj9lglMZThb",
        "colab_type": "text"
      },
      "source": [
        "**4**.**Develop a program that calculates the energy needed to heat water from an initial temperature**\n",
        "**to a final temperature.Your program should prompt the user to enter the amount of water in kilograms**\n",
        "**and the initial and final temperatures of the water.The formula to compute the energy is** \n",
        "**Q = M * (finalTemperature – initialTemperature) * 4184**. \n",
        "**where M is the weight of water in kilograms, temperatures are in degrees** **Celsius,  and energy Q is measured in joules.** (L6)\n"
      ]
    },
    {
      "cell_type": "code",
      "metadata": {
        "id": "tfj1EDBTZdGJ",
        "colab_type": "code",
        "colab": {
          "base_uri": "https://localhost:8080/",
          "height": 84
        },
        "outputId": "714e2e54-9bf0-42a7-9f69-23222fe9ec74"
      },
      "source": [
        "#problem 4\n",
        "m=float(input(\"weight of water \"))\n",
        "t1=int(input(\"initial temperature \"))\n",
        "t2=int(input(\"final temperature \"))\n",
        "q=m*(t2-t1)*4184\n",
        "print(q,\"J\")"
      ],
      "execution_count": null,
      "outputs": [
        {
          "output_type": "stream",
          "text": [
            "weight of water 5\n",
            "initial temperature 0\n",
            "final temperature 120\n",
            "2510400.0 J\n"
          ],
          "name": "stdout"
        }
      ]
    },
    {
      "cell_type": "markdown",
      "metadata": {
        "id": "Ny_P27R6ZnxK",
        "colab_type": "text"
      },
      "source": [
        "**5**.**Develop a program that prompts user to enter month and  print**\n",
        "\n",
        "**a**.\t**“Winter ” -   December ,January and February**\n",
        "\n",
        "**b**.\t**“Spring”  -   March ,April and May**\n",
        "\n",
        "**c**.\t**“Summer”  --- June ,July, August**\n",
        "\n",
        "**d.**\t**“Autumn ”  -- September ,October, November**\n"
      ]
    },
    {
      "cell_type": "code",
      "metadata": {
        "id": "jUtDo_12Zzh7",
        "colab_type": "code",
        "colab": {
          "base_uri": "https://localhost:8080/",
          "height": 50
        },
        "outputId": "29983b56-3e8f-4b8b-eb5f-8ac46c6e3b4f"
      },
      "source": [
        "#problem 5\n",
        "month=input()\n",
        "if month=='December'or month=='January' or month=='February':\n",
        "  print(\"Winter\")\n",
        "if month=='March' or month=='April' or month=='May':\n",
        "  print(\"Spring\")\n",
        "if month=='June' or month=='July' or month=='August':\n",
        "  print(\"Summer\")\n",
        "if month=='September' or month=='October' or month=='November':\n",
        "  print(\"Autum\")\n"
      ],
      "execution_count": null,
      "outputs": [
        {
          "output_type": "stream",
          "text": [
            "May\n",
            "Spring\n"
          ],
          "name": "stdout"
        }
      ]
    },
    {
      "cell_type": "markdown",
      "metadata": {
        "id": "wlmCeQB2f4I-",
        "colab_type": "text"
      },
      "source": [
        "**6.body mass index**"
      ]
    },
    {
      "cell_type": "code",
      "metadata": {
        "id": "doZ68cgvaty9",
        "colab_type": "code",
        "colab": {
          "base_uri": "https://localhost:8080/",
          "height": 67
        },
        "outputId": "1d73d78c-6b48-478f-ece3-263bf4e3692a"
      },
      "source": [
        "#problem 6\n",
        "h=float(input(\"enter height \"))\n",
        "w=float(input(\"enter weight \"))\n",
        "bmi=(w*0.4535)/(h*0.0254)**2\n",
        "if bmi<18.5:\n",
        "  print(\"underweight\")\n",
        "elif bmi>=18.5 or bmi<25.0:\n",
        "  print(\"normal\")\n",
        "elif bmi>=25.0 or bmi<30.0:\n",
        "  print(\"overweight\")\n",
        "else:\n",
        "  print(\"obese\")"
      ],
      "execution_count": null,
      "outputs": [
        {
          "output_type": "stream",
          "text": [
            "enter height 5.8\n",
            "enter weight 80\n",
            "normal\n"
          ],
          "name": "stdout"
        }
      ]
    },
    {
      "cell_type": "markdown",
      "metadata": {
        "id": "bW2ohd7zauVL",
        "colab_type": "text"
      },
      "source": [
        "**7.**\t**Write a program that reads an integer between 100 and 1000 and adds all the digits in the integer \t(\tex: input 745 \t# output =16\t(7+4+5)\t)**"
      ]
    },
    {
      "cell_type": "code",
      "metadata": {
        "id": "ce_XdTueayl1",
        "colab_type": "code",
        "colab": {
          "base_uri": "https://localhost:8080/",
          "height": 50
        },
        "outputId": "e44b82f5-fca9-46b2-9140-f350e356d4ad"
      },
      "source": [
        "#problem 7\n",
        "i=int(input(\"enter value between 100 and 1000:  \"))\n",
        "sum=0\n",
        "rem=0\n",
        "while i>0:\n",
        "  rem=i%10\n",
        "  sum=sum+rem\n",
        "  i=i//10\n",
        "print(sum)"
      ],
      "execution_count": null,
      "outputs": [
        {
          "output_type": "stream",
          "text": [
            "enter value between 100 and 1000:  745\n",
            "16\n"
          ],
          "name": "stdout"
        }
      ]
    },
    {
      "cell_type": "markdown",
      "metadata": {
        "id": "CNsVmSqzbBo9",
        "colab_type": "text"
      },
      "source": [
        "**8**.\t**Print all palindrome numbers between 1 to 1000.**"
      ]
    },
    {
      "cell_type": "code",
      "metadata": {
        "id": "vwwuQtRTbKE0",
        "colab_type": "code",
        "colab": {
          "base_uri": "https://localhost:8080/",
          "height": 1000
        },
        "outputId": "8453b9c0-3633-497f-9acc-408a4476e7f9"
      },
      "source": [
        "#problem 8\n",
        "for i in range(1,1000):\n",
        "  num=i\n",
        "  rem=0\n",
        "  sum=0\n",
        "  while i>0:\n",
        "    rem=i%10\n",
        "    sum=sum*10+rem\n",
        "    i=i//10\n",
        "  if sum==num:\n",
        "    print(num)"
      ],
      "execution_count": null,
      "outputs": [
        {
          "output_type": "stream",
          "text": [
            "1\n",
            "2\n",
            "3\n",
            "4\n",
            "5\n",
            "6\n",
            "7\n",
            "8\n",
            "9\n",
            "11\n",
            "22\n",
            "33\n",
            "44\n",
            "55\n",
            "66\n",
            "77\n",
            "88\n",
            "99\n",
            "101\n",
            "111\n",
            "121\n",
            "131\n",
            "141\n",
            "151\n",
            "161\n",
            "171\n",
            "181\n",
            "191\n",
            "202\n",
            "212\n",
            "222\n",
            "232\n",
            "242\n",
            "252\n",
            "262\n",
            "272\n",
            "282\n",
            "292\n",
            "303\n",
            "313\n",
            "323\n",
            "333\n",
            "343\n",
            "353\n",
            "363\n",
            "373\n",
            "383\n",
            "393\n",
            "404\n",
            "414\n",
            "424\n",
            "434\n",
            "444\n",
            "454\n",
            "464\n",
            "474\n",
            "484\n",
            "494\n",
            "505\n",
            "515\n",
            "525\n",
            "535\n",
            "545\n",
            "555\n",
            "565\n",
            "575\n",
            "585\n",
            "595\n",
            "606\n",
            "616\n",
            "626\n",
            "636\n",
            "646\n",
            "656\n",
            "666\n",
            "676\n",
            "686\n",
            "696\n",
            "707\n",
            "717\n",
            "727\n",
            "737\n",
            "747\n",
            "757\n",
            "767\n",
            "777\n",
            "787\n",
            "797\n",
            "808\n",
            "818\n",
            "828\n",
            "838\n",
            "848\n",
            "858\n",
            "868\n",
            "878\n",
            "888\n",
            "898\n",
            "909\n",
            "919\n",
            "929\n",
            "939\n",
            "949\n",
            "959\n",
            "969\n",
            "979\n",
            "989\n",
            "999\n"
          ],
          "name": "stdout"
        }
      ]
    },
    {
      "cell_type": "markdown",
      "metadata": {
        "id": "DC1z5_P_bYQV",
        "colab_type": "text"
      },
      "source": [
        "**9.\tPrint all Armstrong numbers between 1 to 1000.**"
      ]
    },
    {
      "cell_type": "code",
      "metadata": {
        "id": "pXsj2d5hbcxE",
        "colab_type": "code",
        "colab": {
          "base_uri": "https://localhost:8080/",
          "height": 101
        },
        "outputId": "a921f9e0-648f-4ec6-94e9-23ad271c3f7f"
      },
      "source": [
        "#problem 9\n",
        "for i in range(1,1000):\n",
        "  num=i\n",
        "  rem=0\n",
        "  sum=0\n",
        "  while i>0:\n",
        "    rem=i%10\n",
        "    sum=sum+rem**3\n",
        "    i=i//10\n",
        "  if sum==num:\n",
        "    print(num)"
      ],
      "execution_count": null,
      "outputs": [
        {
          "output_type": "stream",
          "text": [
            "1\n",
            "153\n",
            "370\n",
            "371\n",
            "407\n"
          ],
          "name": "stdout"
        }
      ]
    },
    {
      "cell_type": "markdown",
      "metadata": {
        "id": "j9OZbgx_bh2k",
        "colab_type": "text"
      },
      "source": [
        "**10**.\t**Write a Java program which iterates the integers from 1 to 100. For multiples of three print \"Fizz\" instead of the number and print \"Buzz\" for the multiples of five. When number is divided by both three and five, print \"fizz buzz\".**\n",
        "\n"
      ]
    },
    {
      "cell_type": "code",
      "metadata": {
        "id": "ax9aM_WobljF",
        "colab_type": "code",
        "colab": {
          "base_uri": "https://localhost:8080/",
          "height": 1000
        },
        "outputId": "3907e90a-ea2a-47da-fe88-ebd733e53047"
      },
      "source": [
        "#problem 10\n",
        "for i in range(1,100):\n",
        "    if i%3==0 and i%5==0:\n",
        "      print(\"fizz buzz\")\n",
        "    elif i%3==0:\n",
        "      print(\"Fizz\")\n",
        "    elif i%5==0:\n",
        "      print(\"Buzz\")\n",
        "    else:\n",
        "      print(i)"
      ],
      "execution_count": null,
      "outputs": [
        {
          "output_type": "stream",
          "text": [
            "1\n",
            "2\n",
            "Fizz\n",
            "4\n",
            "Buzz\n",
            "Fizz\n",
            "7\n",
            "8\n",
            "Fizz\n",
            "Buzz\n",
            "11\n",
            "Fizz\n",
            "13\n",
            "14\n",
            "fizz buzz\n",
            "16\n",
            "17\n",
            "Fizz\n",
            "19\n",
            "Buzz\n",
            "Fizz\n",
            "22\n",
            "23\n",
            "Fizz\n",
            "Buzz\n",
            "26\n",
            "Fizz\n",
            "28\n",
            "29\n",
            "fizz buzz\n",
            "31\n",
            "32\n",
            "Fizz\n",
            "34\n",
            "Buzz\n",
            "Fizz\n",
            "37\n",
            "38\n",
            "Fizz\n",
            "Buzz\n",
            "41\n",
            "Fizz\n",
            "43\n",
            "44\n",
            "fizz buzz\n",
            "46\n",
            "47\n",
            "Fizz\n",
            "49\n",
            "Buzz\n",
            "Fizz\n",
            "52\n",
            "53\n",
            "Fizz\n",
            "Buzz\n",
            "56\n",
            "Fizz\n",
            "58\n",
            "59\n",
            "fizz buzz\n",
            "61\n",
            "62\n",
            "Fizz\n",
            "64\n",
            "Buzz\n",
            "Fizz\n",
            "67\n",
            "68\n",
            "Fizz\n",
            "Buzz\n",
            "71\n",
            "Fizz\n",
            "73\n",
            "74\n",
            "fizz buzz\n",
            "76\n",
            "77\n",
            "Fizz\n",
            "79\n",
            "Buzz\n",
            "Fizz\n",
            "82\n",
            "83\n",
            "Fizz\n",
            "Buzz\n",
            "86\n",
            "Fizz\n",
            "88\n",
            "89\n",
            "fizz buzz\n",
            "91\n",
            "92\n",
            "Fizz\n",
            "94\n",
            "Buzz\n",
            "Fizz\n",
            "97\n",
            "98\n",
            "Fizz\n"
          ],
          "name": "stdout"
        }
      ]
    },
    {
      "cell_type": "markdown",
      "metadata": {
        "id": "Al2STTw8bq3l",
        "colab_type": "text"
      },
      "source": [
        "**11**.**Spider Problem:A spider present at the bottom of the well of height H, needs to get out of it, using the slippery wall of the well.It decides to climb up the well; it goes up U meters and slips down D meters in one single step. So, in each step it covers (U-D) meters, and if the spider gets out of the well by covering U meters in the last step it doesn’t a slip back. For example, if the spider climbs up 5 meters and slips down by 3 meters in a single step, it covers (U - D) m in each step and 96 m in 48 steps, but in the 49th step it climbs up 5 m and reaches out of the well and it will not slip down and the step is counted as one step**.     \n",
        "**Input**: **Each test case will contain 3 integers ’H’ height of the well, next ’U’ meters climbs up in each step, and the last ’D’ meters slips down in each step**.\n",
        "**Output**:**The number of steps 'N' required to get out of the well**. \n",
        "**Example 1**:\n",
        " \t**Input**:\t\t\t\t\t\t**Ouput** \n",
        "\t  200 50 1\t\t\t\t\t      5\n",
        "\tExample 2:\n",
        " \t**Input**:\t\t\t\t\t\t**Output**\n",
        "\t500 20 15\t\t\t\t\t       98\n",
        "\n",
        "\t\n"
      ]
    },
    {
      "cell_type": "code",
      "metadata": {
        "id": "qPFVAGbnbvcs",
        "colab_type": "code",
        "colab": {
          "base_uri": "https://localhost:8080/",
          "height": 84
        },
        "outputId": "3d09e5ac-5d32-41b7-c649-0642e7ae6909"
      },
      "source": [
        "#problem 11\n",
        "H=int(input(\"height \"))\n",
        "U=int(input(\"climb \"))\n",
        "D=int(input(\"down \"))\n",
        "x=0\n",
        "count=0\n",
        "while x<=(H-U):\n",
        "  x=x+(U-D)\n",
        "  count+=1\n",
        "print(count+1)"
      ],
      "execution_count": null,
      "outputs": [
        {
          "output_type": "stream",
          "text": [
            "height 500\n",
            "climb 20\n",
            "down 15\n",
            "98\n"
          ],
          "name": "stdout"
        }
      ]
    }
  ]
}